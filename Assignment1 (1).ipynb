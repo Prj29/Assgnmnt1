{
  "nbformat": 4,
  "nbformat_minor": 0,
  "metadata": {
    "colab": {
      "provenance": []
    },
    "kernelspec": {
      "name": "python3",
      "display_name": "Python 3"
    },
    "language_info": {
      "name": "python"
    }
  },
  "cells": [
    {
      "cell_type": "code",
      "execution_count": null,
      "metadata": {
        "colab": {
          "base_uri": "https://localhost:8080/"
        },
        "id": "uXjTDOhNg5nG",
        "outputId": "795e591c-c39d-4c3c-a639-d1f87bfda29c"
      },
      "outputs": [
        {
          "output_type": "stream",
          "name": "stdout",
          "text": [
            "enter nameprj\n",
            "enter roll no:29\n",
            "enter mark100\n",
            "prj 29 100\n"
          ]
        }
      ],
      "source": [
        "name = input('enter name')\n",
        "rno = int(input('enter roll no:'))\n",
        "M1 = int(input('enter mark'))\n",
        "print(name,rno,M1)"
      ]
    },
    {
      "cell_type": "code",
      "source": [
        "t1 = float(input('enter temperature in farehiet'))\n",
        "C = (t1-32)*(5/9)\n",
        "print('temperature in celsius = ', C)\n",
        "t2 = float(input('enter temeparure in celsius'))\n",
        "F = (t2+32)*(5/9)\n",
        "print('temperature in farenhiet = ',F)"
      ],
      "metadata": {
        "colab": {
          "base_uri": "https://localhost:8080/"
        },
        "id": "5MpTLYWFhgK4",
        "outputId": "9c2a7ac8-4cba-4137-81eb-5366c1d1b589"
      },
      "execution_count": null,
      "outputs": [
        {
          "output_type": "stream",
          "name": "stdout",
          "text": [
            "enter temperature in farehiet100\n",
            "temperature in celsius =  37.77777777777778\n",
            "enter temeparure in celsius101\n",
            "temperature in farenhiet =  73.88888888888889\n"
          ]
        }
      ]
    },
    {
      "cell_type": "code",
      "source": [
        "X =float(input('enter a number'))\n",
        "Y =float(input('enter a number'))\n",
        "print(X*Y)\n"
      ],
      "metadata": {
        "colab": {
          "base_uri": "https://localhost:8080/"
        },
        "id": "PQYa4tjpj_w7",
        "outputId": "8fa68ff0-d98d-483c-f002-5ae590f6b536"
      },
      "execution_count": null,
      "outputs": [
        {
          "output_type": "stream",
          "name": "stdout",
          "text": [
            "enter a number2.5\n",
            "enter a number2.5\n",
            "6.25\n"
          ]
        }
      ]
    },
    {
      "cell_type": "code",
      "source": [
        "r = float(input('enter the radius of the circle'))\n",
        "A = 3.14*r*r\n",
        "print('Area = ', A)"
      ],
      "metadata": {
        "colab": {
          "base_uri": "https://localhost:8080/"
        },
        "id": "uRbpcub9k7zF",
        "outputId": "5bf0a303-3366-493a-a388-9e47e43bc114"
      },
      "execution_count": null,
      "outputs": [
        {
          "output_type": "stream",
          "name": "stdout",
          "text": [
            "enter the radius of the circle4\n",
            "Area =  50.24\n"
          ]
        }
      ]
    },
    {
      "cell_type": "code",
      "source": [
        "sample_dict = input({\"name\":\"john\",\"age\":25,\"salary\":80000,\"city\":\"new york\"})\n",
        "sample_dict ['city'] = ['location']\n",
        "print(sample_dict)"
      ],
      "metadata": {
        "colab": {
          "base_uri": "https://localhost:8080/",
          "height": 217
        },
        "id": "yC4JGZw5p4XU",
        "outputId": "65181c6f-f9bd-4682-9f3e-68f9cc933d82"
      },
      "execution_count": 13,
      "outputs": [
        {
          "name": "stdout",
          "output_type": "stream",
          "text": [
            "{'name': 'john', 'age': 25, 'salary': 80000, 'city': 'new york'}city\n"
          ]
        },
        {
          "output_type": "error",
          "ename": "TypeError",
          "evalue": "ignored",
          "traceback": [
            "\u001b[0;31m---------------------------------------------------------------------------\u001b[0m",
            "\u001b[0;31mTypeError\u001b[0m                                 Traceback (most recent call last)",
            "\u001b[0;32m<ipython-input-13-f7761cb2207f>\u001b[0m in \u001b[0;36m<module>\u001b[0;34m\u001b[0m\n\u001b[1;32m      1\u001b[0m \u001b[0msample_dict\u001b[0m \u001b[0;34m=\u001b[0m \u001b[0minput\u001b[0m\u001b[0;34m(\u001b[0m\u001b[0;34m{\u001b[0m\u001b[0;34m\"name\"\u001b[0m\u001b[0;34m:\u001b[0m\u001b[0;34m\"john\"\u001b[0m\u001b[0;34m,\u001b[0m\u001b[0;34m\"age\"\u001b[0m\u001b[0;34m:\u001b[0m\u001b[0;36m25\u001b[0m\u001b[0;34m,\u001b[0m\u001b[0;34m\"salary\"\u001b[0m\u001b[0;34m:\u001b[0m\u001b[0;36m80000\u001b[0m\u001b[0;34m,\u001b[0m\u001b[0;34m\"city\"\u001b[0m\u001b[0;34m:\u001b[0m\u001b[0;34m\"new york\"\u001b[0m\u001b[0;34m}\u001b[0m\u001b[0;34m)\u001b[0m\u001b[0;34m\u001b[0m\u001b[0;34m\u001b[0m\u001b[0m\n\u001b[0;32m----> 2\u001b[0;31m \u001b[0msample_dict\u001b[0m \u001b[0;34m[\u001b[0m\u001b[0;34m'city'\u001b[0m\u001b[0;34m]\u001b[0m \u001b[0;34m=\u001b[0m \u001b[0;34m[\u001b[0m\u001b[0;34m'location'\u001b[0m\u001b[0;34m]\u001b[0m\u001b[0;34m\u001b[0m\u001b[0;34m\u001b[0m\u001b[0m\n\u001b[0m\u001b[1;32m      3\u001b[0m \u001b[0mprint\u001b[0m\u001b[0;34m(\u001b[0m\u001b[0msample_dict\u001b[0m\u001b[0;34m)\u001b[0m\u001b[0;34m\u001b[0m\u001b[0;34m\u001b[0m\u001b[0m\n",
            "\u001b[0;31mTypeError\u001b[0m: 'str' object does not support item assignment"
          ]
        }
      ]
    },
    {
      "cell_type": "code",
      "source": [
        "l1 = [1,2,3,4,5,6,7,8,9,10]\n",
        "num = int(input('enter number to be inserted'))\n",
        "pos = int(input('enter position of number to be inserted'))\n",
        "l1.insert(pos,num)\n",
        "print(l1)"
      ],
      "metadata": {
        "colab": {
          "base_uri": "https://localhost:8080/"
        },
        "id": "HR-aMOLgr0kV",
        "outputId": "098a46f2-b1f6-4ba3-b504-cde4bb1c8017"
      },
      "execution_count": null,
      "outputs": [
        {
          "output_type": "stream",
          "name": "stdout",
          "text": [
            "enter number to be inserted5\n",
            "enter position of number to be inserted2\n",
            "[1, 2, 5, 3, 4, 5, 6, 7, 8, 9, 10]\n"
          ]
        }
      ]
    },
    {
      "cell_type": "code",
      "source": [
        "t1 = (50,10,60,70,50,83,564,50,81)\n",
        "t1.count(50)"
      ],
      "metadata": {
        "colab": {
          "base_uri": "https://localhost:8080/"
        },
        "id": "lPiE7LA4vdg4",
        "outputId": "5feaa6af-bbd6-41c4-af99-b6cb01896297"
      },
      "execution_count": null,
      "outputs": [
        {
          "output_type": "execute_result",
          "data": {
            "text/plain": [
              "3"
            ]
          },
          "metadata": {},
          "execution_count": 20
        }
      ]
    },
    {
      "cell_type": "code",
      "source": [
        "sdict = {'emp1':{'name' : 'john','salary' : '7500'},\n",
        "'emp2':{'name': 'emma','salary': '8000'},\n",
        "'emp3':{'name': 'brad','salary':'500'}}\n",
        "\n",
        "sdict ['emp3']['salary']= 8500\n",
        "print(sdict)\n"
      ],
      "metadata": {
        "id": "M-_a5fT2wffT",
        "colab": {
          "base_uri": "https://localhost:8080/"
        },
        "outputId": "70b6b613-f12f-4d14-a409-9b647cfdaf0e"
      },
      "execution_count": 14,
      "outputs": [
        {
          "output_type": "stream",
          "name": "stdout",
          "text": [
            "{'emp1': {'name': 'john', 'salary': '7500'}, 'emp2': {'name': 'emma', 'salary': '8000'}, 'emp3': {'name': 'brad', 'salary': 8500}}\n"
          ]
        }
      ]
    },
    {
      "cell_type": "code",
      "source": [
        "from google.colab import drive\n",
        "drive.mount('/content/drive')"
      ],
      "metadata": {
        "id": "xXRHd7afyhvq"
      },
      "execution_count": null,
      "outputs": []
    }
  ]
}