{
 "cells": [
  {
   "cell_type": "code",
   "execution_count": 5,
   "id": "e423c318",
   "metadata": {},
   "outputs": [
    {
     "name": "stdout",
     "output_type": "stream",
     "text": [
      "enter list: 1,20,10,2\n",
      "the sum of numbers in list =  33\n"
     ]
    }
   ],
   "source": [
    "\n",
    "def summ_list():\n",
    "    l=input('enter list: ')\n",
    "    l=l.split(',')\n",
    "    l=[int(n) for n in l]\n",
    "    return sum(l)\n",
    "\n",
    "#n=(int(input('enter the number of elements in the list')))\n",
    "a=summ_list()\n",
    "print('the sum of numbers in list = ',a)\n",
    "\n",
    "        \n",
    "    "
   ]
  },
  {
   "cell_type": "code",
   "execution_count": 61,
   "id": "f16b3539",
   "metadata": {},
   "outputs": [
    {
     "name": "stdout",
     "output_type": "stream",
     "text": [
      "enter the string to be checkedmalayalam\n",
      "The inputed string is paliandrome\n"
     ]
    }
   ],
   "source": [
    "def is_palian(a):\n",
    "    r=''.join(reversed(a))\n",
    "    if(a==r):\n",
    "        return True\n",
    "    else:\n",
    "        return False\n",
    "\n",
    "a=(input('enter the string to be checked')) \n",
    "result=is_palian(a)\n",
    "if (result==True):\n",
    "    print('The inputed string is paliandrome')\n",
    "else:\n",
    "    print('The inputed string is not a paliandrome')"
   ]
  },
  {
   "cell_type": "code",
   "execution_count": 7,
   "id": "7de0c5c9",
   "metadata": {},
   "outputs": [
    {
     "name": "stdout",
     "output_type": "stream",
     "text": [
      "enter limit10\n",
      "0\n",
      "1\n",
      "1\n",
      "2\n",
      "3\n",
      "5\n",
      "8\n",
      "13\n",
      "21\n",
      "34\n"
     ]
    }
   ],
   "source": [
    "def f_rec(n):\n",
    "    if(n<=1):\n",
    "        return n\n",
    "    else:\n",
    "        return(f_rec(n-1)+f_rec(n-2))\n",
    "    \n",
    "limit=int(input('enter limit'))\n",
    "for i in range(limit):\n",
    "    print( f_rec(i))\n"
   ]
  },
  {
   "cell_type": "code",
   "execution_count": 19,
   "id": "8ef1414c",
   "metadata": {
    "scrolled": true
   },
   "outputs": [
    {
     "name": "stdout",
     "output_type": "stream",
     "text": [
      "enter number\n",
      "5\n",
      "\n",
      " table of 5 is:\n",
      "5 x 1 = 5\n",
      "5 x 2 = 10\n",
      "5 x 3 = 15\n",
      "5 x 4 = 20\n",
      "5 x 5 = 25\n",
      "5 x 6 = 30\n",
      "5 x 7 = 35\n",
      "5 x 8 = 40\n",
      "5 x 9 = 45\n",
      "5 x 10 = 50\n"
     ]
    }
   ],
   "source": [
    "def multiplication_table(n,c):\n",
    "    if(c>10):\n",
    "        return\n",
    "    print (n,\"x\", c,\"=\",n*c)\n",
    "    return multiplication_table(n,c+1)\n",
    "    \n",
    "print('enter number')\n",
    "n=int(input())\n",
    "print('\\n table of',n,'is:')\n",
    "multiplication_table(n,1)"
   ]
  },
  {
   "cell_type": "code",
   "execution_count": 21,
   "id": "b019f89f",
   "metadata": {},
   "outputs": [
    {
     "name": "stdout",
     "output_type": "stream",
     "text": [
      "enter text: vuuoiterwvb\n",
      "vowels  5\n",
      "consonent  6\n"
     ]
    }
   ],
   "source": [
    "def vow_con(x):\n",
    "    vc=0\n",
    "    cc=0\n",
    "    for i in range(0,len(x)):\n",
    "        ch=x[i]\n",
    "        if(ch>='a' and ch<='z') or (ch>='A' and ch<='Z'):\n",
    "            ch=ch.lower()\n",
    "            if(ch=='a'or ch=='e' or ch=='i' or ch=='o' or ch=='u'):\n",
    "                vc=vc+1\n",
    "\n",
    "            else:\n",
    "                cc=cc+1\n",
    "    print('vowels ', vc)\n",
    "    print('consonent ',cc)\n",
    "    \n",
    "x=input('enter text: ')   \n",
    "vow_con(x)"
   ]
  },
  {
   "cell_type": "code",
   "execution_count": 14,
   "id": "bccb51c3",
   "metadata": {},
   "outputs": [
    {
     "name": "stdout",
     "output_type": "stream",
     "text": [
      "enter a wordprajoth\n",
      "PRAJOTH\n"
     ]
    }
   ],
   "source": [
    "def touppercase():\n",
    "    \n",
    "    if (st.islower()==True):\n",
    "        return(st.upper())\n",
    "    else:\n",
    "        return\n",
    "\n",
    "st=input('enter a word')\n",
    "print(touppercase())"
   ]
  },
  {
   "cell_type": "code",
   "execution_count": 17,
   "id": "5a7834f1",
   "metadata": {},
   "outputs": [
    {
     "name": "stdout",
     "output_type": "stream",
     "text": [
      "input = [12, 0, 'none', 23, 'none', -55, 234, 56, 'none', 4, 789, 900]\n",
      "output = [12, 0, 23, -55, 234, 56, 4, 789, 900]\n"
     ]
    }
   ],
   "source": [
    "def remove_word(list1,remove_word):\n",
    "    result=list(filter(lambda word:word not in remove_word,list1))\n",
    "    return result\n",
    "\n",
    "l=[12,0,'none',23,'none',-55,234,56,'none',4,789,900]\n",
    "removew=['none']\n",
    "print('input =',l)\n",
    "print('output =',remove(l,removew))"
   ]
  },
  {
   "cell_type": "code",
   "execution_count": 20,
   "id": "3d87e17a",
   "metadata": {},
   "outputs": [
    {
     "name": "stdout",
     "output_type": "stream",
     "text": [
      "length = 2\n",
      "width = 4\n",
      "area = 8\n",
      "perimeter = 12\n",
      "volume 48\n"
     ]
    }
   ],
   "source": [
    "class Rectangle:\n",
    "    def __init__(self,l,b):\n",
    "        self.length=l\n",
    "        self.breadth=b\n",
    "    \n",
    "    def area(self):\n",
    "        self.area = self.length*self.breadth\n",
    "        return self.area\n",
    "    \n",
    "    def perimeter(self):\n",
    "        self.p = (2*(self.length+self.breadth))\n",
    "        return self.p\n",
    "    \n",
    "    def display(self):\n",
    "        print('length =',self.length)\n",
    "        print('width =',self.breadth)\n",
    "        print('area =',self.area)\n",
    "        print('perimeter =',self.p)\n",
    "        \n",
    "class Parallelpiped(Rectangle):\n",
    "    def __init__(self,h):\n",
    "        self.hgt=h\n",
    "    def volume(self):\n",
    "        print('volume',(rect.area*self.hgt))\n",
    "    \n",
    "rect=Rectangle(2,4)\n",
    "rect.area()\n",
    "rect.perimeter()\n",
    "rect.display()\n",
    "\n",
    "r1=Parallelpiped(6)\n",
    "r1.volume()"
   ]
  },
  {
   "cell_type": "code",
   "execution_count": 31,
   "id": "5cb985dc",
   "metadata": {},
   "outputs": [
    {
     "name": "stdout",
     "output_type": "stream",
     "text": [
      "account name =  Prajoth\n",
      "account number =  6668\n",
      "account balance =  30000.0\n"
     ]
    }
   ],
   "source": [
    "class BankAccount:\n",
    "    \n",
    "    def __init__(self,accountno,name,balance):\n",
    "        self.accountno=accountno\n",
    "        self.name=name\n",
    "        self.balance=balance\n",
    "        \n",
    "    def deposit(self,deposit):\n",
    "        self.balance=self.balance+deposit        \n",
    "    \n",
    "    def withdrawl(self,withdrawl):\n",
    "        if (self.balance<withdrawl):\n",
    "            print('insufficient balance')\n",
    "        else:\n",
    "            self.balance-withdrawl\n",
    "        \n",
    "    def bankfees(self):\n",
    "        self.balance= 0.5*self.balance\n",
    "                 \n",
    "    def display(self):\n",
    "        print('account name = ',self.name)\n",
    "        print('account number = ',self.accountno)\n",
    "        print('account balance = ',self.balance)\n",
    "\n",
    "        \n",
    "        \n",
    "nwacc = BankAccount(6668,'Prajoth',50000)\n",
    "nwacc.deposit(10000)\n",
    "nwacc.withdrawl(5000)\n",
    "nwacc.bankfees()\n",
    "nwacc.display()              \n",
    "        \n",
    "        \n",
    "        "
   ]
  },
  {
   "cell_type": "code",
   "execution_count": 9,
   "id": "2db92022",
   "metadata": {},
   "outputs": [
    {
     "ename": "NameError",
     "evalue": "name 'null' is not defined",
     "output_type": "error",
     "traceback": [
      "\u001b[1;31m---------------------------------------------------------------------------\u001b[0m",
      "\u001b[1;31mNameError\u001b[0m                                 Traceback (most recent call last)",
      "\u001b[1;32m~\\AppData\\Local\\Temp\\ipykernel_8964\\2311210803.py\u001b[0m in \u001b[0;36m<module>\u001b[1;34m\u001b[0m\n\u001b[1;32m----> 1\u001b[1;33m \u001b[1;32mfrom\u001b[0m \u001b[0mrectangle\u001b[0m \u001b[1;32mimport\u001b[0m \u001b[0mRectangle\u001b[0m\u001b[1;33m\u001b[0m\u001b[1;33m\u001b[0m\u001b[0m\n\u001b[0m\u001b[0;32m      2\u001b[0m \u001b[1;33m\u001b[0m\u001b[0m\n\u001b[0;32m      3\u001b[0m \u001b[0mrectangle\u001b[0m\u001b[1;33m.\u001b[0m\u001b[0marea\u001b[0m\u001b[1;33m\u001b[0m\u001b[1;33m\u001b[0m\u001b[0m\n\u001b[0;32m      4\u001b[0m \u001b[0mrectangle\u001b[0m\u001b[1;33m.\u001b[0m\u001b[0mperimeter\u001b[0m\u001b[1;33m\u001b[0m\u001b[1;33m\u001b[0m\u001b[0m\n\u001b[0;32m      5\u001b[0m \u001b[1;33m\u001b[0m\u001b[0m\n",
      "\u001b[1;32m~\\rectangle.py\u001b[0m in \u001b[0;36m<module>\u001b[1;34m\u001b[0m\n\u001b[0;32m      3\u001b[0m   {\n\u001b[0;32m      4\u001b[0m    \u001b[1;34m\"cell_type\"\u001b[0m\u001b[1;33m:\u001b[0m \u001b[1;34m\"code\"\u001b[0m\u001b[1;33m,\u001b[0m\u001b[1;33m\u001b[0m\u001b[1;33m\u001b[0m\u001b[0m\n\u001b[1;32m----> 5\u001b[1;33m    \u001b[1;34m\"execution_count\"\u001b[0m\u001b[1;33m:\u001b[0m \u001b[0mnull\u001b[0m\u001b[1;33m,\u001b[0m\u001b[1;33m\u001b[0m\u001b[1;33m\u001b[0m\u001b[0m\n\u001b[0m\u001b[0;32m      6\u001b[0m    \u001b[1;34m\"id\"\u001b[0m\u001b[1;33m:\u001b[0m \u001b[1;34m\"5c783641\"\u001b[0m\u001b[1;33m,\u001b[0m\u001b[1;33m\u001b[0m\u001b[1;33m\u001b[0m\u001b[0m\n\u001b[0;32m      7\u001b[0m    \u001b[1;34m\"metadata\"\u001b[0m\u001b[1;33m:\u001b[0m \u001b[1;33m{\u001b[0m\u001b[1;33m}\u001b[0m\u001b[1;33m,\u001b[0m\u001b[1;33m\u001b[0m\u001b[1;33m\u001b[0m\u001b[0m\n",
      "\u001b[1;31mNameError\u001b[0m: name 'null' is not defined"
     ]
    }
   ],
   "source": [
    "from rectangle import Rectangle\n",
    "\n",
    "rectangle.area\n",
    "rectangle.perimeter\n",
    "\n",
    "class Parellelpiped(rectangle):\n",
    "    def __init__(self,length,breadth,height):\n",
    "        super().__init__(length,breadth)\n",
    "        self.height=height\n",
    "    \n",
    "    def volume(self):\n",
    "        return self.length*self.breadth*self.height\n",
    "    \n",
    "r=rectangle.Rectangle(5,10)\n",
    "print('Rectangle area = ',rectangle.area())\n",
    "print('perimeter = ',rectangle.perimeter())\n",
    "\n",
    "para=parallelpiped(2,5,10)\n",
    "print('area = ',para.area())\n",
    "print('volume = ',para.volume())"
   ]
  },
  {
   "cell_type": "code",
   "execution_count": null,
   "id": "2372ecf0",
   "metadata": {},
   "outputs": [],
   "source": []
  }
 ],
 "metadata": {
  "kernelspec": {
   "display_name": "Python 3 (ipykernel)",
   "language": "python",
   "name": "python3"
  },
  "language_info": {
   "codemirror_mode": {
    "name": "ipython",
    "version": 3
   },
   "file_extension": ".py",
   "mimetype": "text/x-python",
   "name": "python",
   "nbconvert_exporter": "python",
   "pygments_lexer": "ipython3",
   "version": "3.9.13"
  }
 },
 "nbformat": 4,
 "nbformat_minor": 5
}
