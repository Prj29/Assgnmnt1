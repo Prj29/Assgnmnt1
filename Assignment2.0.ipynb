{
 "cells": [
  {
   "cell_type": "code",
   "execution_count": 45,
   "id": "7dee9229",
   "metadata": {},
   "outputs": [
    {
     "name": "stdout",
     "output_type": "stream",
     "text": [
      "enter your marks50\n",
      "D\n"
     ]
    }
   ],
   "source": [
    "s=int(input('enter your marks'))\n",
    "if (s<=25):\n",
    "    print('F')\n",
    "elif(s>25 and s<=45):\n",
    "    print('E')\n",
    "elif(s>45 and s<=50):\n",
    "    print('D')\n",
    "elif(s>50 and s<=60):\n",
    "    print('C')\n",
    "elif(s>60 and s<=80):\n",
    "    print('B')\n",
    "else:\n",
    "    print('A')"
   ]
  },
  {
   "cell_type": "code",
   "execution_count": 3,
   "id": "fdc891bb",
   "metadata": {},
   "outputs": [
    {
     "name": "stdout",
     "output_type": "stream",
     "text": [
      "['john', 'krishna']\n"
     ]
    }
   ],
   "source": [
    "list1=['john','peter','meera','mini','krishna']\n",
    "list2=[]\n",
    "list3=[]\n",
    "for i in list1:\n",
    "    for j in range(0,len(i)):\n",
    "        for k in range(j+1,len(i)):\n",
    "            if i[j]==i[k]:\n",
    "                list2.append(i)\n",
    "for i in list1:\n",
    "    if i not in list2:\n",
    "        list3.append(i)\n",
    "        \n",
    "print(list3)\n",
    "                \n",
    "\n"
   ]
  },
  {
   "cell_type": "code",
   "execution_count": 4,
   "id": "1c44e36e",
   "metadata": {},
   "outputs": [
    {
     "name": "stdout",
     "output_type": "stream",
     "text": [
      "enter the length10\n",
      "enter the breadth10\n",
      "itS a square\n"
     ]
    }
   ],
   "source": [
    "l=int(input('enter the length'))\n",
    "b=int(input('enter the breadth'))\n",
    "if(l==b):\n",
    "    print('itS a square')\n",
    "else:\n",
    "     print('its not a square')\n",
    "        "
   ]
  },
  {
   "cell_type": "code",
   "execution_count": 52,
   "id": "72dca1fe",
   "metadata": {},
   "outputs": [
    {
     "name": "stdout",
     "output_type": "stream",
     "text": [
      "enter no. of classes held200\n",
      "enter no. of classes atended195\n",
      "eligable\n"
     ]
    }
   ],
   "source": [
    "A= int(input('enter no. of classes held'))\n",
    "B=int(input('enter no. of classes atended'))\n",
    "c=((B/A)*100)\n",
    "if(c>75):\n",
    "    print('eligable')\n",
    "else:\n",
    "    print('not eligable')"
   ]
  },
  {
   "cell_type": "code",
   "execution_count": 10,
   "id": "b56865cd",
   "metadata": {},
   "outputs": [
    {
     "name": "stdout",
     "output_type": "stream",
     "text": [
      "enter length of list5\n",
      " 10\n",
      "10\n",
      " 2\n",
      "12\n",
      " 20\n",
      "32\n",
      " 40\n",
      "72\n",
      " 10\n",
      "82\n",
      "list1 =  [10, 2, 20, 40, 10]\n",
      "sum =  82\n",
      "even list =  [10, 2, 20, 40, 10]\n",
      "odd list =  []\n"
     ]
    }
   ],
   "source": [
    "l1=[]\n",
    "l2=[]\n",
    "l=[]\n",
    "s=0\n",
    "n=int(input('enter length of list'))\n",
    "for i in range(1,n+1):\n",
    "    x=int(input(' '))\n",
    "    l.append(x)\n",
    "    s=s+x\n",
    "    print(s)\n",
    "    if(x%2==0):\n",
    "        l1.append(x)\n",
    "    else:\n",
    "        l2.append(x)\n",
    "print('list1 = ',l)\n",
    "print('sum = ',s)\n",
    "print('even list = ',l1)\n",
    "print('odd list = ',l2)"
   ]
  },
  {
   "cell_type": "code",
   "execution_count": 15,
   "id": "c6dfca1d",
   "metadata": {},
   "outputs": [
    {
     "name": "stdout",
     "output_type": "stream",
     "text": [
      "enter lower range1\n",
      "enter upper range10\n",
      "[2, 3, 5, 7]\n"
     ]
    }
   ],
   "source": [
    "l=int(input('enter lower range'))\n",
    "u=int(input('enter upper range'))\n",
    "p=[]\n",
    "for num in range(l,u+1):\n",
    "    if num>1:\n",
    "        for i in range(2,num):\n",
    "            if(num%i)==0:\n",
    "                break\n",
    "        else:\n",
    "            p.append(num)\n",
    "\n",
    "print(p)"
   ]
  },
  {
   "cell_type": "code",
   "execution_count": 5,
   "id": "70721d8d",
   "metadata": {},
   "outputs": [
    {
     "name": "stdout",
     "output_type": "stream",
     "text": [
      "enter the coefficient of a: 2\n",
      "enter the coefficient of b: 3\n",
      "enter the coefficient of c: 4\n",
      "the roots are imaginary\n"
     ]
    }
   ],
   "source": [
    "\n",
    "import math\n",
    "a = float(input('enter the coefficient of a: '))\n",
    "b = float(input('enter the coefficient of b: '))\n",
    "c = float(input('enter the coefficient of c: '))\n",
    "d=(b**2)-(4*a*c)\n",
    "if (d>0):\n",
    "    x=(-b + math.sqrt(d))/(2*a)\n",
    "    y=(-b - math.sqrt(d))/(2*a) \n",
    "    print('the roots are real and distinct',x,y)\n",
    "elif(d==0): \n",
    "    x=-b/(2*a)\n",
    "    print('the roots are real and equal',x)  \n",
    "else:\n",
    "    print('the roots are imaginary')\n",
    "          \n",
    "          \n",
    "          \n",
    "          \n",
    "          \n",
    "          \n",
    "          \n",
    "          \n",
    "          \n",
    "          \n",
    "          \n",
    "          \n",
    "          \n",
    "          \n",
    "          \n",
    "          \n",
    "          "
   ]
  },
  {
   "cell_type": "code",
   "execution_count": 6,
   "id": "dfc2c2e8",
   "metadata": {},
   "outputs": [
    {
     "name": "stdout",
     "output_type": "stream",
     "text": [
      "current number 1 previous number 0 sum  1\n",
      "current number 2 previous number 1 sum  3\n",
      "current number 3 previous number 2 sum  5\n",
      "current number 4 previous number 3 sum  7\n",
      "current number 5 previous number 4 sum  9\n",
      "current number 6 previous number 5 sum  11\n",
      "current number 7 previous number 6 sum  13\n",
      "current number 8 previous number 7 sum  15\n",
      "current number 9 previous number 8 sum  17\n",
      "current number 10 previous number 9 sum  19\n"
     ]
    }
   ],
   "source": [
    "pn=0\n",
    "for i in range(1,11):\n",
    "    s=pn+i\n",
    "    print('current number',i,'previous number',pn,'sum ',s)\n",
    "    pn=i"
   ]
  },
  {
   "cell_type": "code",
   "execution_count": 7,
   "id": "899ab0d6",
   "metadata": {},
   "outputs": [
    {
     "name": "stdout",
     "output_type": "stream",
     "text": [
      "enter the limit5\n",
      "0 1 1 2 3 5 "
     ]
    }
   ],
   "source": [
    "l=int(input('enter the limit'))\n",
    "f1=0\n",
    "f2=1\n",
    "print(f1,end=' ')\n",
    "print(f2,end=' ')\n",
    "f3=f1+f2\n",
    "while(f3<=l):\n",
    "    print(f3,end =' ')\n",
    "    f1=f2\n",
    "    f2=f3\n",
    "    f3=f2+f1"
   ]
  },
  {
   "cell_type": "code",
   "execution_count": null,
   "id": "2bf1cfb1",
   "metadata": {},
   "outputs": [
    {
     "name": "stdout",
     "output_type": "stream",
     "text": [
      "Hey ! How can i help you\n",
      "enter Quit to stopmen\n",
      "what would you love to surf on !\n",
      "enter Quit to stopshirts\n",
      "we would love to see you here, go for more !\n",
      "enter Quit to stop\n",
      "Dont be shy,Open up!! explore the shopping world!!!\n",
      "enter Quit to stopwomen\n",
      "on what would you like to surf on!\n",
      "enter Quit to stopwestern\n",
      "we would love to see you here, go for more !\n"
     ]
    }
   ],
   "source": [
    "print(\"Hey ! How can i help you\")\n",
    "\n",
    "while True:\n",
    "    x = input('enter Quit to stop')\n",
    "    x=x.lower()\n",
    "    if x =='quit' :\n",
    "        print('come back  soon !')\n",
    "        break\n",
    "    y=x.split()\n",
    "    if len(y)==0:\n",
    "        print('Dont be shy,Open up!! explore the shopping world!!!')\n",
    "    elif 'offers' in y:\n",
    "        print('Yes! we got up to 70% off in clothing for both men and women and 50% in footwear and much more')\n",
    "    elif 'men' in y:\n",
    "        print('what would you love to surf on !')\n",
    "    elif ('Tshirts','jeans','jackets','sportswear','kurtas','joggers','shorts','shirts','3/4th')in y:\n",
    "        print('click here www.shopzymen.com enjoy shopping !')\n",
    "    elif('women')in y:\n",
    "        print('on what would you like to surf on!')\n",
    "    elif ('western wear','ethinic','footwear','jewellery','beauty products','hand bags','sarees','dress materials')in y:\n",
    "        print('click here www.shopzywomen.com enjoy shopping !')\n",
    "    elif('electronics')in y:\n",
    "        print('click here www.shopzyelectronics.com enjoy shopping !')\n",
    "    else:\n",
    "        print('we would love to see you here, go for more !')\n",
    "        "
   ]
  },
  {
   "cell_type": "code",
   "execution_count": 21,
   "id": "99e4ce8f",
   "metadata": {
    "scrolled": false
   },
   "outputs": [
    {
     "name": "stdout",
     "output_type": "stream",
     "text": [
      "Hey ! How can i help you\n",
      "enter Quit to stopquit\n"
     ]
    },
    {
     "ename": "AttributeError",
     "evalue": "'builtin_function_or_method' object has no attribute 'split'",
     "output_type": "error",
     "traceback": [
      "\u001b[1;31m---------------------------------------------------------------------------\u001b[0m",
      "\u001b[1;31mAttributeError\u001b[0m                            Traceback (most recent call last)",
      "\u001b[1;32m~\\AppData\\Local\\Temp\\ipykernel_24184\\403316583.py\u001b[0m in \u001b[0;36m<module>\u001b[1;34m\u001b[0m\n\u001b[0;32m      7\u001b[0m         \u001b[0mprint\u001b[0m\u001b[1;33m(\u001b[0m\u001b[1;34m'Thank you for visiting'\u001b[0m\u001b[1;33m)\u001b[0m\u001b[1;33m\u001b[0m\u001b[1;33m\u001b[0m\u001b[0m\n\u001b[0;32m      8\u001b[0m         \u001b[1;32mbreak\u001b[0m\u001b[1;33m\u001b[0m\u001b[1;33m\u001b[0m\u001b[0m\n\u001b[1;32m----> 9\u001b[1;33m     \u001b[0my\u001b[0m\u001b[1;33m=\u001b[0m\u001b[0mx\u001b[0m\u001b[1;33m.\u001b[0m\u001b[0msplit\u001b[0m\u001b[1;33m(\u001b[0m\u001b[1;33m)\u001b[0m\u001b[1;33m\u001b[0m\u001b[1;33m\u001b[0m\u001b[0m\n\u001b[0m\u001b[0;32m     10\u001b[0m     \u001b[1;32mif\u001b[0m \u001b[0mlen\u001b[0m\u001b[1;33m(\u001b[0m\u001b[0my\u001b[0m\u001b[1;33m)\u001b[0m\u001b[1;33m==\u001b[0m\u001b[1;36m0\u001b[0m\u001b[1;33m:\u001b[0m\u001b[1;33m\u001b[0m\u001b[1;33m\u001b[0m\u001b[0m\n\u001b[0;32m     11\u001b[0m         \u001b[0mprint\u001b[0m\u001b[1;33m(\u001b[0m\u001b[1;34m'Dont be shy,Open up explore the shopping world!!!'\u001b[0m\u001b[1;33m)\u001b[0m\u001b[1;33m\u001b[0m\u001b[1;33m\u001b[0m\u001b[0m\n",
      "\u001b[1;31mAttributeError\u001b[0m: 'builtin_function_or_method' object has no attribute 'split'"
     ]
    }
   ],
   "source": []
  },
  {
   "cell_type": "code",
   "execution_count": null,
   "id": "f0caae5b",
   "metadata": {},
   "outputs": [],
   "source": []
  },
  {
   "cell_type": "code",
   "execution_count": null,
   "id": "8dd67a64",
   "metadata": {},
   "outputs": [],
   "source": []
  }
 ],
 "metadata": {
  "kernelspec": {
   "display_name": "Python 3 (ipykernel)",
   "language": "python",
   "name": "python3"
  },
  "language_info": {
   "codemirror_mode": {
    "name": "ipython",
    "version": 3
   },
   "file_extension": ".py",
   "mimetype": "text/x-python",
   "name": "python",
   "nbconvert_exporter": "python",
   "pygments_lexer": "ipython3",
   "version": "3.9.13"
  }
 },
 "nbformat": 4,
 "nbformat_minor": 5
}
